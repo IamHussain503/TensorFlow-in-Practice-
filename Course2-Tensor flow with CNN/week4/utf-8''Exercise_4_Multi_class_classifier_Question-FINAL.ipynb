{
 "cells": [
  {
   "cell_type": "code",
   "execution_count": 1,
   "metadata": {
    "colab": {},
    "colab_type": "code",
    "id": "wYtuKeK0dImp"
   },
   "outputs": [],
   "source": [
    "# ATTENTION: Please do not alter any of the provided code in the exercise. Only add your own code where indicated\n",
    "# ATTENTION: Please do not add or remove any cells in the exercise. The grader will check specific cells based on the cell position.\n",
    "# ATTENTION: Please use the provided epoch values when training.\n",
    "\n",
    "import csv\n",
    "import numpy as np\n",
    "import tensorflow as tf\n",
    "from tensorflow.keras.preprocessing.image import ImageDataGenerator\n",
    "from os import getcwd\n"
   ]
  },
  {
   "cell_type": "code",
   "execution_count": 10,
   "metadata": {
    "colab": {},
    "colab_type": "code",
    "id": "4kxw-_rmcnVu"
   },
   "outputs": [
    {
     "name": "stdout",
     "output_type": "stream",
     "text": [
      "(27455, 28, 28)\n",
      "(27455,)\n",
      "(7172, 28, 28)\n",
      "(7172,)\n"
     ]
    }
   ],
   "source": [
    "def get_data(filename):\n",
    "  # You will need to write code that will read the file passed\n",
    "  # into this function. The first line contains the column headers\n",
    "  # so you should ignore it\n",
    "  # Each successive line contians 785 comma separated values between 0 and 255\n",
    "  # The first value is the label\n",
    "  # The rest are the pixel values for that picture\n",
    "  # The function will return 2 np.array types. One with all the labels\n",
    "  # One with all the images\n",
    "  #\n",
    "  # Tips: \n",
    "  # If you read a full line (as 'row') then row[0] has the label\n",
    "  # and row[1:785] has the 784 pixel values\n",
    "  # Take a look at np.array_split to turn the 784 pixels into 28x28\n",
    "  # You are reading in strings, but need the values to be floats\n",
    "  # Check out np.array().astype for a conversion\n",
    "    with open(filename) as training_file:\n",
    "          # Your code starts here\n",
    "        #images = np.array([])\n",
    "        #labels = np.array([])\n",
    "        images = []\n",
    "        labels = []\n",
    "\n",
    "        for count,row in enumerate(training_file):\n",
    "            if count==0:  #skip first row.\n",
    "                continue\n",
    "            row = row.split(\",\")\n",
    "            label = np.array(row[0])\n",
    "            image = np.array_split(row[1:785], 28)\n",
    "            \n",
    "            label = np.array(label) \n",
    "            image = np.array(image) \n",
    "            \n",
    "            labels.append(label)\n",
    "            images.append(image)\n",
    "                \n",
    "                \n",
    "        labels = np.array(labels).astype(float)\n",
    "        images = np.array(images).astype(float)\n",
    "            \n",
    "        return images,labels\n",
    "\n",
    "path_sign_mnist_train = f\"{getcwd()}/../tmp2/sign_mnist_train.csv\"\n",
    "path_sign_mnist_test = f\"{getcwd()}/../tmp2/sign_mnist_test.csv\"\n",
    "training_images, training_labels = get_data(path_sign_mnist_train)\n",
    "testing_images, testing_labels = get_data(path_sign_mnist_test)\n",
    "\n",
    "# Keep these\n",
    "print(training_images.shape)\n",
    "print(training_labels.shape)\n",
    "print(testing_images.shape)\n",
    "print(testing_labels.shape)\n",
    "\n",
    "# Their output should be:\n",
    "# (27455, 28, 28)\n",
    "# (27455,)\n",
    "# (7172, 28, 28)\n",
    "# (7172,)"
   ]
  },
  {
   "cell_type": "code",
   "execution_count": 3,
   "metadata": {
    "colab": {},
    "colab_type": "code",
    "id": "awoqRpyZdQkD"
   },
   "outputs": [
    {
     "name": "stdout",
     "output_type": "stream",
     "text": [
      "(27455, 28, 28, 1)\n",
      "(7172, 28, 28, 1)\n"
     ]
    }
   ],
   "source": [
    "# In this section you will have to add another dimension to the data\n",
    "# So, for example, if your array is (10000, 28, 28)\n",
    "# You will need to make it (10000, 28, 28, 1)\n",
    "# Hint: np.expand_dims\n",
    "\n",
    "training_images = tf.expand_dims(training_images,3)# Your Code Here\n",
    "testing_images = tf.expand_dims(testing_images,3) # Your Code Here\n",
    "\n",
    "# Create an ImageDataGenerator and do Image Augmentation\n",
    "train_datagen = ImageDataGenerator(\n",
    "    \n",
    "        rescale = 1./255.,\n",
    "        rotation_range=40,\n",
    "        width_shift_range=0.2,\n",
    "        height_shift_range=0.2,\n",
    "        shear_range=0.2,\n",
    "        zoom_range=0.2,\n",
    "        horizontal_flip=True,\n",
    "        fill_mode='nearest'\n",
    "    # Your Code Here\n",
    "    )\n",
    "\n",
    "validation_datagen = ImageDataGenerator(\n",
    "    # Your Code Here\n",
    "    rescale = 1./255.)\n",
    "\n",
    "# train_generator = train_datagen.flow(\n",
    "#         training_images,\n",
    "#         training_labels,\n",
    "#         batch_size=200\n",
    "# )\n",
    "\n",
    "# validation_generator = validation_datagen.flow(\n",
    "#         testing_images,\n",
    "#         testing_labels,\n",
    "#         batch_size=50\n",
    "# )\n",
    "\n",
    "\n",
    "    \n",
    "# Keep These\n",
    "print(training_images.shape)\n",
    "print(testing_images.shape)\n",
    "    \n",
    "# Their output should be:\n",
    "# (27455, 28, 28, 1)\n",
    "# (7172, 28, 28, 1)"
   ]
  },
  {
   "cell_type": "code",
   "execution_count": 8,
   "metadata": {
    "colab": {},
    "colab_type": "code",
    "id": "Rmb7S32cgRqS"
   },
   "outputs": [
    {
     "name": "stdout",
     "output_type": "stream",
     "text": [
      "Model: \"sequential_3\"\n",
      "_________________________________________________________________\n",
      "Layer (type)                 Output Shape              Param #   \n",
      "=================================================================\n",
      "conv2d_6 (Conv2D)            (None, 26, 26, 64)        640       \n",
      "_________________________________________________________________\n",
      "max_pooling2d_6 (MaxPooling2 (None, 13, 13, 64)        0         \n",
      "_________________________________________________________________\n",
      "conv2d_7 (Conv2D)            (None, 11, 11, 128)       73856     \n",
      "_________________________________________________________________\n",
      "max_pooling2d_7 (MaxPooling2 (None, 5, 5, 128)         0         \n",
      "_________________________________________________________________\n",
      "flatten_3 (Flatten)          (None, 3200)              0         \n",
      "_________________________________________________________________\n",
      "dropout_3 (Dropout)          (None, 3200)              0         \n",
      "_________________________________________________________________\n",
      "dense_6 (Dense)              (None, 512)               1638912   \n",
      "_________________________________________________________________\n",
      "dense_7 (Dense)              (None, 26)                13338     \n",
      "=================================================================\n",
      "Total params: 1,726,746\n",
      "Trainable params: 1,726,746\n",
      "Non-trainable params: 0\n",
      "_________________________________________________________________\n",
      "Epoch 1/20\n",
      "915/915 [==============================] - 82s 89ms/step - loss: 2.6711 - accuracy: 0.1809 - val_loss: 1.8683 - val_accuracy: 0.3869\n",
      "Epoch 2/20\n",
      "915/915 [==============================] - 75s 82ms/step - loss: 1.9344 - accuracy: 0.3819 - val_loss: 1.3053 - val_accuracy: 0.5633\n",
      "Epoch 3/20\n",
      "915/915 [==============================] - 76s 83ms/step - loss: 1.5161 - accuracy: 0.5034 - val_loss: 0.7662 - val_accuracy: 0.7347\n",
      "Epoch 4/20\n",
      "915/915 [==============================] - 75s 83ms/step - loss: 1.2940 - accuracy: 0.5701 - val_loss: 0.7752 - val_accuracy: 0.7332\n",
      "Epoch 5/20\n",
      "915/915 [==============================] - 77s 84ms/step - loss: 1.1570 - accuracy: 0.6166 - val_loss: 0.4738 - val_accuracy: 0.8497\n",
      "Epoch 6/20\n",
      "915/915 [==============================] - 74s 81ms/step - loss: 1.0096 - accuracy: 0.6632 - val_loss: 0.3513 - val_accuracy: 0.8980\n",
      "Epoch 7/20\n",
      "915/915 [==============================] - 76s 83ms/step - loss: 0.9342 - accuracy: 0.6861 - val_loss: 0.4167 - val_accuracy: 0.8696\n",
      "Epoch 8/20\n",
      "915/915 [==============================] - 79s 86ms/step - loss: 0.8701 - accuracy: 0.7068 - val_loss: 0.3226 - val_accuracy: 0.9036\n",
      "Epoch 9/20\n",
      "915/915 [==============================] - 79s 87ms/step - loss: 0.8094 - accuracy: 0.7314 - val_loss: 0.3443 - val_accuracy: 0.8830\n",
      "Epoch 10/20\n",
      "915/915 [==============================] - 85s 93ms/step - loss: 0.7791 - accuracy: 0.7386 - val_loss: 0.3165 - val_accuracy: 0.8773\n",
      "Epoch 11/20\n",
      "915/915 [==============================] - 83s 91ms/step - loss: 0.7272 - accuracy: 0.7524 - val_loss: 0.3012 - val_accuracy: 0.9026\n",
      "Epoch 12/20\n",
      "915/915 [==============================] - 86s 94ms/step - loss: 0.6911 - accuracy: 0.7675 - val_loss: 0.2458 - val_accuracy: 0.9124\n",
      "Epoch 13/20\n",
      "915/915 [==============================] - 79s 86ms/step - loss: 0.6805 - accuracy: 0.7729 - val_loss: 0.2294 - val_accuracy: 0.9236\n",
      "Epoch 14/20\n",
      "915/915 [==============================] - 79s 86ms/step - loss: 0.6486 - accuracy: 0.7815 - val_loss: 0.1925 - val_accuracy: 0.9406\n",
      "Epoch 15/20\n",
      "915/915 [==============================] - 83s 91ms/step - loss: 0.6261 - accuracy: 0.7888 - val_loss: 0.2276 - val_accuracy: 0.9250\n",
      "Epoch 16/20\n",
      "915/915 [==============================] - 78s 86ms/step - loss: 0.5988 - accuracy: 0.7992 - val_loss: 0.1906 - val_accuracy: 0.9363\n",
      "Epoch 17/20\n",
      "915/915 [==============================] - 75s 82ms/step - loss: 0.5890 - accuracy: 0.8044 - val_loss: 0.1712 - val_accuracy: 0.9430\n",
      "Epoch 18/20\n",
      "915/915 [==============================] - 80s 87ms/step - loss: 0.5721 - accuracy: 0.8077 - val_loss: 0.1700 - val_accuracy: 0.9446\n",
      "Epoch 19/20\n",
      "915/915 [==============================] - 83s 91ms/step - loss: 0.5630 - accuracy: 0.8106 - val_loss: 0.1683 - val_accuracy: 0.9452\n",
      "Epoch 20/20\n",
      "915/915 [==============================] - 82s 90ms/step - loss: 0.5430 - accuracy: 0.8150 - val_loss: 0.1466 - val_accuracy: 0.9563\n"
     ]
    },
    {
     "data": {
      "text/plain": [
       "[100.96936021539929, 0.6999442]"
      ]
     },
     "execution_count": 8,
     "metadata": {},
     "output_type": "execute_result"
    }
   ],
   "source": [
    "# Define the model\n",
    "# Use no more than 2 Conv2D and 2 MaxPooling2D\n",
    "model = tf.keras.models.Sequential([\n",
    "    \n",
    "    # Note the input shape is the desired size of the image 28x28 with 1 bytes color\n",
    "    # This is the first convolution\n",
    "    tf.keras.layers.Conv2D(64, (3,3), activation='relu', input_shape=(28, 28, 1)),\n",
    "    tf.keras.layers.MaxPooling2D(2, 2),\n",
    "    # The second convolution\n",
    "    tf.keras.layers.Conv2D(128, (3,3), activation='relu'),\n",
    "    tf.keras.layers.MaxPooling2D(2,2),\n",
    "    # Flatten the results to feed into a DNN\n",
    "    tf.keras.layers.Flatten(),\n",
    "    tf.keras.layers.Dropout(0.5),\n",
    "    # 512 neuron hidden layer\n",
    "    tf.keras.layers.Dense(512, activation='relu'),\n",
    "    tf.keras.layers.Dense(26, activation='softmax') # 26 alphabets correspond to 26 unique classes\n",
    "        \n",
    "    # Your Code Here\n",
    "])\n",
    "\n",
    "# Compile Model. \n",
    "model.compile(loss = 'sparse_categorical_crossentropy', optimizer='adam', metrics=['accuracy'])\n",
    "model.summary()\n",
    "# # Train the Model\n",
    "# history = model.fit(training_images,training_labels, epochs=2, validation_data = (testing_images, testing_labels))# Your Code Here (set 'epochs' = 2))\n",
    "history = model.fit_generator(train_datagen.flow(training_images,training_labels,batch_size=30),epochs = 15 ,steps_per_epoch=len(training_images)//30,\n",
    "                    validation_data = validation_datagen.flow(testing_images,testing_labels,batch_size=15), validation_steps=len(testing_images)//15\n",
    "                   ) \n",
    "model.evaluate(testing_images, testing_labels, verbose=0)"
   ]
  },
  {
   "cell_type": "code",
   "execution_count": 9,
   "metadata": {
    "colab": {},
    "colab_type": "code",
    "id": "_Q3Zpr46dsij"
   },
   "outputs": [
    {
     "data": {
      "image/png": "[encoded data removed]",
      "text/plain": [
       "<Figure size 432x288 with 1 Axes>"
      ]
     },
     "metadata": {
      "needs_background": "light"
     },
     "output_type": "display_data"
    },
    {
     "data": {
      "image/png": "[encoded data removed]",
      "text/plain": [
       "<Figure size 432x288 with 1 Axes>"
      ]
     },
     "metadata": {
      "needs_background": "light"
     },
     "output_type": "display_data"
    }
   ],
   "source": [
    "# Plot the chart for accuracy and loss on both training and validation\n",
    "%matplotlib inline\n",
    "import matplotlib.pyplot as plt\n",
    "acc = history.history['accuracy']\n",
    "val_acc = history.history['val_accuracy']\n",
    "loss = history.history['loss']\n",
    "val_loss = history.history['val_loss']\n",
    "epochs = range(len(acc))\n",
    "\n",
    "plt.plot(epochs, acc, 'r', label='Training accuracy')\n",
    "plt.plot(epochs, val_acc, 'b', label='Validation accuracy')\n",
    "plt.title('Training and validation accuracy')\n",
    "plt.legend()\n",
    "plt.figure()\n",
    "\n",
    "plt.plot(epochs, loss, 'r', label='Training Loss')\n",
    "plt.plot(epochs, val_loss, 'b', label='Validation Loss')\n",
    "plt.title('Training and validation loss')\n",
    "plt.legend()\n",
    "\n",
    "plt.show()"
   ]
  },
  {
   "cell_type": "markdown",
   "metadata": {},
   "source": [
    "# Submission Instructions"
   ]
  },
  {
   "cell_type": "code",
   "execution_count": null,
   "metadata": {},
   "outputs": [],
   "source": [
    "# Now click the 'Submit Assignment' button above."
   ]
  },
  {
   "cell_type": "markdown",
   "metadata": {},
   "source": [
    "# When you're done or would like to take a break, please run the two cells below to save your work and close the Notebook. This will free up resources for your fellow learners. "
   ]
  },
  {
   "cell_type": "code",
   "execution_count": null,
   "metadata": {},
   "outputs": [],
   "source": [
    "%%javascript\n",
    "<!-- Save the notebook -->\n",
    "IPython.notebook.save_checkpoint();"
   ]
  },
  {
   "cell_type": "code",
   "execution_count": null,
   "metadata": {},
   "outputs": [],
   "source": [
    "%%javascript\n",
    "IPython.notebook.session.delete();\n",
    "window.onbeforeunload = null\n",
    "setTimeout(function() { window.close(); }, 1000);"
   ]
  }
 ],
 "metadata": {
  "colab": {
   "name": "Exercise 8 - Question.ipynb",
   "provenance": []
  },
  "coursera": {
   "course_slug": "convolutional-neural-networks-tensorflow",
   "graded_item_id": "8mIh8",
   "launcher_item_id": "gg95t"
  },
  "kernelspec": {
   "display_name": "Python 3",
   "language": "python",
   "name": "python3"
  },
  "language_info": {
   "codemirror_mode": {
    "name": "ipython",
    "version": 3
   },
   "file_extension": ".py",
   "mimetype": "text/x-python",
   "name": "python",
   "nbconvert_exporter": "python",
   "pygments_lexer": "ipython3",
   "version": "3.6.8"
  }
 },
 "nbformat": 4,
 "nbformat_minor": 1
}
